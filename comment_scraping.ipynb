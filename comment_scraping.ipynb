{
 "cells": [
  {
   "cell_type": "code",
   "execution_count": 1,
   "id": "81d2298a-fed8-4441-9942-6d9da2caf880",
   "metadata": {},
   "outputs": [],
   "source": [
    "import praw\n",
    "import json\n",
    "from datetime import datetime"
   ]
  },
  {
   "cell_type": "code",
   "execution_count": 3,
   "id": "206db03e-d3b7-496d-941d-628b1644ff4f",
   "metadata": {},
   "outputs": [],
   "source": [
    "reddit = praw.Reddit(\n",
    "    client_id=\"5Y1AJpNzcy5UXDwPABaYLw\", \n",
    "    client_secret=\"97379friMWEckO1HYEhwZ3ZVttd9ow\",\n",
    "    user_agent=\"script:myapp:v1.0 (by /u/Double_Draft_4533)\",\n",
    ")"
   ]
  },
  {
   "cell_type": "code",
   "execution_count": 11,
   "id": "09bf8396-4423-447d-a54e-e2604a361ea5",
   "metadata": {},
   "outputs": [],
   "source": [
    "def fetch_post_details(post_id):\n",
    "    try:\n",
    "        submission = reddit.submission(id=post_id)\n",
    "        submission.comments.replace_more(limit=0)\n",
    "        \n",
    "        comments_data = []\n",
    "        \n",
    "        for comment in submission.comments[:5]:\n",
    "            comments_data.append({\n",
    "                \"submission_id\": submission.id,\n",
    "                \"submission_title\": submission.title,\n",
    "                \"comment_id\": comment.id,\n",
    "                \"comment_body\": comment.body,\n",
    "                \"comment_score\": comment.score,\n",
    "                \"comment_created_date\": datetime.utcfromtimestamp(comment.created_utc).strftime('%Y-%m-%d %H:%M:%S')\n",
    "            })\n",
    "        \n",
    "        return comments_data\n",
    "    except Exception as e:\n",
    "        print(f\"Error fetching details for post {post_id}: {e}\")\n",
    "        return []"
   ]
  },
  {
   "cell_type": "code",
   "execution_count": 13,
   "id": "9fb3f793-ca8f-43ce-8e5a-6fd150b754cf",
   "metadata": {},
   "outputs": [],
   "source": [
    "def fetch_comments_for_posts(post_ids):\n",
    "    all_comments = []\n",
    "    for post_id in post_ids:\n",
    "        comments = fetch_post_details(post_id)\n",
    "        all_comments.extend(comments)\n",
    "    return all_comments"
   ]
  },
  {
   "cell_type": "code",
   "execution_count": 45,
   "id": "4fdf7044-2cfa-45f8-9204-0dc32d4370c6",
   "metadata": {},
   "outputs": [],
   "source": [
    "with open('./data/biweek3_N.json', 'r') as file:\n",
    "    posts_data = json.load(file)\n",
    "post_ids = [post[\"id\"] for post in posts_data]"
   ]
  },
  {
   "cell_type": "code",
   "execution_count": 47,
   "id": "642a2a4a-fa56-493b-8f56-d17584460677",
   "metadata": {},
   "outputs": [
    {
     "name": "stderr",
     "output_type": "stream",
     "text": [
      "/var/folders/q2/nk28ymf90t58ggqt_s97bblc0000gn/T/ipykernel_31388/4147336648.py:15: DeprecationWarning: datetime.datetime.utcfromtimestamp() is deprecated and scheduled for removal in a future version. Use timezone-aware objects to represent datetimes in UTC: datetime.datetime.fromtimestamp(timestamp, datetime.UTC).\n",
      "  \"comment_created_date\": datetime.utcfromtimestamp(comment.created_utc).strftime('%Y-%m-%d %H:%M:%S')\n"
     ]
    }
   ],
   "source": [
    "output = fetch_comments_for_posts(post_ids)"
   ]
  },
  {
   "cell_type": "code",
   "execution_count": 49,
   "id": "b4ad6252-e2ee-4d48-b3f3-61177d535c76",
   "metadata": {},
   "outputs": [],
   "source": [
    "with open('./data/bw3n_comments.json', 'w') as outfile:\n",
    "    json.dump(output, outfile, indent=4)"
   ]
  },
  {
   "cell_type": "code",
   "execution_count": 51,
   "id": "aa78ccd6-eb25-4243-88e7-a46c300dba00",
   "metadata": {},
   "outputs": [],
   "source": [
    "with open('./data/biweek2_MS.json', 'r') as file:\n",
    "    posts_data = json.load(file)\n",
    "post_ids = [post[\"id\"] for post in posts_data]"
   ]
  },
  {
   "cell_type": "code",
   "execution_count": 53,
   "id": "c80bdc2d-ad4a-41f6-8d5f-3b4b7ddd599b",
   "metadata": {},
   "outputs": [
    {
     "name": "stderr",
     "output_type": "stream",
     "text": [
      "/var/folders/q2/nk28ymf90t58ggqt_s97bblc0000gn/T/ipykernel_31388/4147336648.py:15: DeprecationWarning: datetime.datetime.utcfromtimestamp() is deprecated and scheduled for removal in a future version. Use timezone-aware objects to represent datetimes in UTC: datetime.datetime.fromtimestamp(timestamp, datetime.UTC).\n",
      "  \"comment_created_date\": datetime.utcfromtimestamp(comment.created_utc).strftime('%Y-%m-%d %H:%M:%S')\n"
     ]
    }
   ],
   "source": [
    "output = fetch_comments_for_posts(post_ids)"
   ]
  },
  {
   "cell_type": "code",
   "execution_count": 55,
   "id": "a1512447-73f8-4e79-a50c-85b308e3ac1c",
   "metadata": {},
   "outputs": [],
   "source": [
    "with open('./data/bw2ms_comments.json', 'w') as outfile:\n",
    "    json.dump(output, outfile, indent=4)"
   ]
  },
  {
   "cell_type": "code",
   "execution_count": 57,
   "id": "a2fb0bff-e208-45d4-afe6-2ac828e6b480",
   "metadata": {},
   "outputs": [],
   "source": [
    "with open('./data/biweek3_MS.json', 'r') as file:\n",
    "    posts_data = json.load(file)\n",
    "post_ids = [post[\"id\"] for post in posts_data]"
   ]
  },
  {
   "cell_type": "code",
   "execution_count": 59,
   "id": "40afc3dd-a4de-49a4-b176-59f2a392eac7",
   "metadata": {},
   "outputs": [
    {
     "name": "stderr",
     "output_type": "stream",
     "text": [
      "/var/folders/q2/nk28ymf90t58ggqt_s97bblc0000gn/T/ipykernel_31388/4147336648.py:15: DeprecationWarning: datetime.datetime.utcfromtimestamp() is deprecated and scheduled for removal in a future version. Use timezone-aware objects to represent datetimes in UTC: datetime.datetime.fromtimestamp(timestamp, datetime.UTC).\n",
      "  \"comment_created_date\": datetime.utcfromtimestamp(comment.created_utc).strftime('%Y-%m-%d %H:%M:%S')\n"
     ]
    }
   ],
   "source": [
    "output = fetch_comments_for_posts(post_ids)"
   ]
  },
  {
   "cell_type": "code",
   "execution_count": null,
   "id": "b28338ae-f737-4497-977a-df00fc31e458",
   "metadata": {},
   "outputs": [],
   "source": []
  }
 ],
 "metadata": {
  "kernelspec": {
   "display_name": "Python 3 (ipykernel)",
   "language": "python",
   "name": "python3"
  },
  "language_info": {
   "codemirror_mode": {
    "name": "ipython",
    "version": 3
   },
   "file_extension": ".py",
   "mimetype": "text/x-python",
   "name": "python",
   "nbconvert_exporter": "python",
   "pygments_lexer": "ipython3",
   "version": "3.12.4"
  }
 },
 "nbformat": 4,
 "nbformat_minor": 5
}
